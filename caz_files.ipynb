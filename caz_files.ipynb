{
 "cells": [
  {
   "cell_type": "code",
   "execution_count": 6,
   "metadata": {},
   "outputs": [],
   "source": [
    "import pandas as pd\n",
    "import numpy as np\n",
    "from datetime import datetime,timedelta\n",
    "import logging\n",
    "import os\n",
    "\n",
    "import requests\n",
    "# from cv2 import simma"
   ]
  },
  {
   "cell_type": "code",
   "execution_count": 2,
   "metadata": {},
   "outputs": [],
   "source": [
    "# pwd"
   ]
  },
  {
   "cell_type": "code",
   "execution_count": 2,
   "metadata": {},
   "outputs": [],
   "source": [
    "home_path = '/home/tensor/vaib/imd_radar'\n",
    "target = os.path.join(home_path,'target')"
   ]
  },
  {
   "cell_type": "code",
   "execution_count": 3,
   "metadata": {},
   "outputs": [],
   "source": [
    "\n",
    "# Configure logging\n",
    "logging.basicConfig(filename=\"caz_lgs.log\", filemode=\"w\",\n",
    "                    format=\"%(asctime)s;%(message)s\", level=logging.INFO)\n",
    "# Log messages\n",
    "# \n"
   ]
  },
  {
   "cell_type": "code",
   "execution_count": 4,
   "metadata": {},
   "outputs": [],
   "source": [
    "types_frames = ['caz','sri','ppi']\n",
    "locations = ['delhi','patna']\n",
    "# logging.info(\"This is a debug message\")"
   ]
  },
  {
   "cell_type": "code",
   "execution_count": 10,
   "metadata": {},
   "outputs": [],
   "source": [
    "for x in locations:\n",
    "    if os.path.exists(os.path.join(target,x)) == False:\n",
    "        os.mkdir(os.path.join(target,x))\n",
    "    for y in types_frames:\n",
    "        if os.path.exists(os.path.join(target,x,y)) == False:\n",
    "            os.mkdir(os.path.join(target,x,y))\n"
   ]
  },
  {
   "cell_type": "code",
   "execution_count": 53,
   "metadata": {},
   "outputs": [],
   "source": [
    "# pd.read_csv('caz_lgs.log',delimiter=\";\",header=None)\n",
    "import shutil\n",
    "now_timestamp = datetime.now()\n",
    "format_timestamp = now_timestamp.strftime(\"%Y%m%dT%H%M%S\")\n",
    "for x in locations:\n",
    "    for y in types_frames:\n",
    "        resp = requests.get(f\"https://mausam.imd.gov.in/Radar/{y}_{x}.gif\", stream=True)\n",
    "        if resp.status_code == 200:\n",
    "            with open(os.path.join(target,'delhi',y,f'{y}_{x}_{format_timestamp}.gif'),'wb') as f:\n",
    "                resp.raw.decode_content = True\n",
    "                shutil.copyfileobj(resp.raw, f)\n",
    "                logging.info(f\"{y};{x};{now_timestamp}\")\n",
    "        else:\n",
    "            print(\"Cannot Retreat Frame\")"
   ]
  },
  {
   "cell_type": "code",
   "execution_count": 52,
   "metadata": {},
   "outputs": [
    {
     "data": {
      "text/plain": [
       "NoneType"
      ]
     },
     "execution_count": 52,
     "metadata": {},
     "output_type": "execute_result"
    }
   ],
   "source": [
    "import cv2\n",
    "im1 = cv2.imread('target/delhi/caz/caz_delhi_20240807T173531.gif')\n",
    "type(im1)"
   ]
  },
  {
   "cell_type": "code",
   "execution_count": null,
   "metadata": {},
   "outputs": [],
   "source": []
  }
 ],
 "metadata": {
  "kernelspec": {
   "display_name": "env",
   "language": "python",
   "name": "python3"
  },
  "language_info": {
   "codemirror_mode": {
    "name": "ipython",
    "version": 3
   },
   "file_extension": ".py",
   "mimetype": "text/x-python",
   "name": "python",
   "nbconvert_exporter": "python",
   "pygments_lexer": "ipython3",
   "version": "3.11.5"
  }
 },
 "nbformat": 4,
 "nbformat_minor": 2
}
