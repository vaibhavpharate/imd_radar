{
 "cells": [
  {
   "cell_type": "code",
   "execution_count": 69,
   "metadata": {},
   "outputs": [],
   "source": [
    "# !pip install Pillow\n",
    "# Imports PIL module  \n",
    "from PIL import Image, ImageChops\n",
    "  \n",
    "# open method used to open different extension image file \n",
    "im1 = Image.open(r\"target/delhi/caz/caz_delhi_20240807T174354.gif\")  \n",
    "im2 = Image.open(r\"target/delhi/caz/caz_delhi_20240807T174607.gif\")  \n",
    "# This method will show image in any image viewer  \n",
    "# im.show()  \n",
    "# from cv2 import simma"
   ]
  },
  {
   "cell_type": "code",
   "execution_count": 82,
   "metadata": {},
   "outputs": [],
   "source": [
    "\n",
    "import os\n",
    "import pandas as pd\n",
    "from datetime import datetime,timedelta\n",
    "home_path = '/home/tensor/vaib/imd_radar'\n",
    "target = os.path.join(home_path,'target')\n",
    "\n",
    "def get_timestamp(x):\n",
    "    timestamp = x.split(\"_\")[-1][:-4]\n",
    "    return timestamp\n",
    "\n",
    "def get_all_done_files(target):\n",
    "    all_files = []\n",
    "    for location in os.listdir(target):\n",
    "        for frame_type in os.listdir(os.path.join(target,location)):\n",
    "            print(os.path.join(target,location))\n",
    "            for file in os.listdir(os.path.join(target,location,frame_type)):\n",
    "                if file not in all_files:\n",
    "                    all_files.append(file)\n",
    "    df = pd.DataFrame({'files':all_files})\n",
    "\n",
    "    df['frame_type'] = df['files'].str.split(\"_\").str[0]\n",
    "    df['location'] = df['files'].str.split(\"_\").str[1]\n",
    "    df['frame_updated'] = df['files'].apply(get_timestamp)\n",
    "\n",
    "    return df"
   ]
  },
  {
   "cell_type": "code",
   "execution_count": 83,
   "metadata": {},
   "outputs": [
    {
     "name": "stdout",
     "output_type": "stream",
     "text": [
      "/\n",
      "/\n",
      "/\n",
      "/\n",
      "/\n",
      "/\n"
     ]
    },
    {
     "ename": "PermissionError",
     "evalue": "[Errno 13] Permission denied: '/root'",
     "output_type": "error",
     "traceback": [
      "\u001b[0;31m---------------------------------------------------------------------------\u001b[0m",
      "\u001b[0;31mPermissionError\u001b[0m                           Traceback (most recent call last)",
      "Cell \u001b[0;32mIn[83], line 1\u001b[0m\n\u001b[0;32m----> 1\u001b[0m \u001b[43mget_all_done_files\u001b[49m\u001b[43m(\u001b[49m\u001b[43mtarget\u001b[49m\u001b[38;5;241;43m=\u001b[39;49m\u001b[43mtarget\u001b[49m\u001b[43m)\u001b[49m\n\u001b[1;32m      2\u001b[0m \u001b[38;5;66;03m# print(target)\u001b[39;00m\n",
      "Cell \u001b[0;32mIn[82], line 16\u001b[0m, in \u001b[0;36mget_all_done_files\u001b[0;34m(target)\u001b[0m\n\u001b[1;32m     14\u001b[0m \u001b[38;5;28;01mfor\u001b[39;00m frame_type \u001b[38;5;129;01min\u001b[39;00m os\u001b[38;5;241m.\u001b[39mlistdir(os\u001b[38;5;241m.\u001b[39mpath\u001b[38;5;241m.\u001b[39mjoin(target,location)):\n\u001b[1;32m     15\u001b[0m     \u001b[38;5;28mprint\u001b[39m(os\u001b[38;5;241m.\u001b[39mpath\u001b[38;5;241m.\u001b[39mjoin(target,location))\n\u001b[0;32m---> 16\u001b[0m     \u001b[38;5;28;01mfor\u001b[39;00m file \u001b[38;5;129;01min\u001b[39;00m os\u001b[38;5;241m.\u001b[39mlistdir(os\u001b[38;5;241m.\u001b[39mpath\u001b[38;5;241m.\u001b[39mjoin(target,location,frame_type)):\n\u001b[1;32m     17\u001b[0m         \u001b[38;5;28;01mif\u001b[39;00m file \u001b[38;5;129;01mnot\u001b[39;00m \u001b[38;5;129;01min\u001b[39;00m all_files:\n\u001b[1;32m     18\u001b[0m             all_files\u001b[38;5;241m.\u001b[39mappend(file)\n",
      "\u001b[0;31mPermissionError\u001b[0m: [Errno 13] Permission denied: '/root'"
     ]
    }
   ],
   "source": [
    "get_all_done_files(target=target)\n",
    "# print(target)"
   ]
  },
  {
   "cell_type": "code",
   "execution_count": 3,
   "metadata": {},
   "outputs": [],
   "source": [
    "\n",
    "# \n"
   ]
  },
  {
   "cell_type": "code",
   "execution_count": 4,
   "metadata": {},
   "outputs": [],
   "source": []
  },
  {
   "cell_type": "code",
   "execution_count": 10,
   "metadata": {},
   "outputs": [],
   "source": [
    "\n"
   ]
  },
  {
   "cell_type": "code",
   "execution_count": 53,
   "metadata": {},
   "outputs": [],
   "source": []
  },
  {
   "cell_type": "code",
   "execution_count": 52,
   "metadata": {},
   "outputs": [
    {
     "data": {
      "text/plain": [
       "NoneType"
      ]
     },
     "execution_count": 52,
     "metadata": {},
     "output_type": "execute_result"
    }
   ],
   "source": [
    "import cv2\n",
    "im1 = cv2.imread('target/delhi/caz/caz_delhi_20240807T173531.gif')\n",
    "type(im1)"
   ]
  },
  {
   "cell_type": "code",
   "execution_count": null,
   "metadata": {},
   "outputs": [],
   "source": []
  }
 ],
 "metadata": {
  "kernelspec": {
   "display_name": "env",
   "language": "python",
   "name": "python3"
  },
  "language_info": {
   "codemirror_mode": {
    "name": "ipython",
    "version": 3
   },
   "file_extension": ".py",
   "mimetype": "text/x-python",
   "name": "python",
   "nbconvert_exporter": "python",
   "pygments_lexer": "ipython3",
   "version": "3.11.5"
  }
 },
 "nbformat": 4,
 "nbformat_minor": 2
}
