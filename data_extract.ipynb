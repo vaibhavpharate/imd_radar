{
 "cells": [
  {
   "cell_type": "code",
   "execution_count": 12,
   "metadata": {},
   "outputs": [],
   "source": [
    "import pandas as pd\n",
    "import numpy as np\n",
    "import os\n",
    "from math import pi, atan, sinh, cos, log, tan, radians, degrees\n",
    "import numpy as np\n",
    "from PIL import Image,ImageDraw\n",
    "\n"
   ]
  },
  {
   "cell_type": "code",
   "execution_count": 49,
   "metadata": {},
   "outputs": [],
   "source": [
    "zoom = 8.47\n",
    "image_size = (719,719)"
   ]
  },
  {
   "cell_type": "code",
   "execution_count": 50,
   "metadata": {},
   "outputs": [],
   "source": [
    "\n",
    "## extract the frames data\n",
    "def latlon_to_pixel(lat, lon, zoom):\n",
    "    \"\"\"Convert latitude and longitude to pixel coordinates at the specified zoom level.\"\"\"\n",
    "    lat_rad = radians(lat)\n",
    "    n = 2.0 ** zoom\n",
    "    x = (lon + 180.0) / 360.0 * n * 256.0\n",
    "    y = (1.0 - log(tan(lat_rad) + (1 / cos(lat_rad))) / pi) / 2.0 * n * 256.0\n",
    "    return x, y\n",
    "\n",
    "def pixel_to_latlon(x, y, zoom):\n",
    "    \"\"\"Convert pixel coordinates to latitude and longitude at the specified zoom level.\"\"\"\n",
    "    n = 2.0 ** zoom\n",
    "    lon = x / (n * 256.0) * 360.0 - 180.0\n",
    "    lat_rad = atan(sinh(pi * (1 - 2 * y / (n * 256.0))))\n",
    "    lat = degrees(lat_rad)\n",
    "    return lat, lon\n",
    "\n",
    "def generate_latlon_grid(center_lat, center_lon, zoom, image_size):\n",
    "    \"\"\"Generate a grid of latitude and longitude values for each pixel in the image.\"\"\"\n",
    "    width, height = image_size\n",
    "\n",
    "    # Get pixel coordinates of the center\n",
    "    center_x, center_y = latlon_to_pixel(center_lat, center_lon, zoom)\n",
    "\n",
    "    # Calculate pixel offsets\n",
    "    half_width = width // 2\n",
    "    half_height = height // 2\n",
    "\n",
    "    latlon_grid = np.zeros((height, width, 2))\n",
    "\n",
    "    for y in range(height):\n",
    "        for x in range(width):\n",
    "            pixel_x = center_x - half_width + x\n",
    "            pixel_y = center_y - half_height + y\n",
    "            lat, lon = pixel_to_latlon(pixel_x, pixel_y, zoom)\n",
    "            latlon_grid[y, x] = (lat, lon)\n",
    "    \n",
    "    return latlon_grid\n",
    "\n",
    "def rgb_to_hex(rgb):\n",
    "    \"\"\"Convert an RGB tuple to a hex string.\"\"\"\n",
    "    return '#{:02x}{:02x}{:02x}'.format(rgb[0], rgb[1], rgb[2])\n",
    "\n"
   ]
  },
  {
   "cell_type": "code",
   "execution_count": 51,
   "metadata": {},
   "outputs": [],
   "source": [
    "image = Image.open('/home/tensor/vaib/imd_radar/target_processed/delhi/ppi/ppi_delhi_20240813T1340.png')\n",
    "image = image.resize(image_size)  # Ensure the image is 512x512 pixels\n",
    "pixels = np.array(image)\n",
    "latlon_grid = generate_latlon_grid(28.7041, 77.1025, zoom, image_size)\n",
    "data = []\n",
    "# Print latitude, longitude, and hex color value of every pixel\n",
    "for y in range(image_size[1]):\n",
    "    for x in range(image_size[0]):\n",
    "        lat, lon = latlon_grid[y, x]\n",
    "        color = pixels[y, x]\n",
    "        # hex_color = rgb_to_hex(color)\n",
    "        data.append([x, y, lat, lon, color])\n",
    "\n",
    "df = pd.DataFrame(data, columns=['Pixel_X', 'Pixel_Y', 'latitude', 'longitude', 'Color'])"
   ]
  },
  {
   "cell_type": "code",
   "execution_count": 52,
   "metadata": {},
   "outputs": [
    {
     "data": {
      "text/html": [
       "<div>\n",
       "<style scoped>\n",
       "    .dataframe tbody tr th:only-of-type {\n",
       "        vertical-align: middle;\n",
       "    }\n",
       "\n",
       "    .dataframe tbody tr th {\n",
       "        vertical-align: top;\n",
       "    }\n",
       "\n",
       "    .dataframe thead th {\n",
       "        text-align: right;\n",
       "    }\n",
       "</style>\n",
       "<table border=\"1\" class=\"dataframe\">\n",
       "  <thead>\n",
       "    <tr style=\"text-align: right;\">\n",
       "      <th></th>\n",
       "      <th>Pixel_X</th>\n",
       "      <th>Pixel_Y</th>\n",
       "      <th>latitude</th>\n",
       "      <th>longitude</th>\n",
       "      <th>Color</th>\n",
       "      <th>lat_diff</th>\n",
       "      <th>lon_diff</th>\n",
       "      <th>omega</th>\n",
       "    </tr>\n",
       "  </thead>\n",
       "  <tbody>\n",
       "    <tr>\n",
       "      <th>291575</th>\n",
       "      <td>380</td>\n",
       "      <td>405</td>\n",
       "      <td>28.543966</td>\n",
       "      <td>77.185783</td>\n",
       "      <td>[0, 0, 0, 0]</td>\n",
       "      <td>0.000616</td>\n",
       "      <td>0.001569</td>\n",
       "      <td>0.002185</td>\n",
       "    </tr>\n",
       "  </tbody>\n",
       "</table>\n",
       "</div>"
      ],
      "text/plain": [
       "        Pixel_X  Pixel_Y   latitude  longitude         Color  lat_diff  \\\n",
       "291575      380      405  28.543966  77.185783  [0, 0, 0, 0]  0.000616   \n",
       "\n",
       "        lon_diff     omega  \n",
       "291575  0.001569  0.002185  "
      ]
     },
     "execution_count": 52,
     "metadata": {},
     "output_type": "execute_result"
    }
   ],
   "source": [
    "df['lat_diff'] = (df['latitude'] - 28.5433498).abs()\n",
    "df['lon_diff'] = (df['longitude'] - 77.187352).abs()\n",
    "df['omega'] = df['lat_diff'] + df['lon_diff']\n",
    "# df['localityId'] = row['localityId']\n",
    "df.sort_values('omega')[:1]"
   ]
  },
  {
   "cell_type": "code",
   "execution_count": 77,
   "metadata": {},
   "outputs": [],
   "source": [
    "img = Image.open('/home/tensor/vaib/imd_radar/target_processed/delhi/ppi/ppi_delhi_20240813T1340.png')\n",
    "\n",
    "\n",
    "img = img.convert(\"RGBA\")\n",
    "draw = ImageDraw.Draw(img)\n",
    "x, y = 359, 347# Replace with your coordinates\n",
    "radius = 0.5\n",
    "pixels = img.load()\n",
    "draw.ellipse((x-radius, y-radius, x+radius, y+radius), fill=(0, 0, 0))\n",
    "\n",
    "img.save('/home/tensor/vaib/imd_radar/target_processed/delhi/ppi/ppi_delhi_20240813T1340eeeee.png')"
   ]
  },
  {
   "cell_type": "markdown",
   "metadata": {},
   "source": [
    "IIT Delhi | 0.003128\n",
    "CP Central Garden 28.6440, 77.1885 | 0.004157\n",
    "Noida GIP mall 28.5675, 77.3262 | 0.003126\n",
    "Pacific Mall Punjabi Baug 28.6417, 77.1067 | 0.001547\n",
    " "
   ]
  },
  {
   "cell_type": "code",
   "execution_count": 36,
   "metadata": {},
   "outputs": [
    {
     "data": {
      "text/plain": [
       "np.float64(0.0029895)"
      ]
     },
     "execution_count": 36,
     "metadata": {},
     "output_type": "execute_result"
    }
   ],
   "source": [
    "np.average([0.003128,0.004157,0.003126,0.001547])"
   ]
  },
  {
   "cell_type": "code",
   "execution_count": 76,
   "metadata": {},
   "outputs": [
    {
     "name": "stdout",
     "output_type": "stream",
     "text": [
      "Pixel coordinates: (359, 347)\n"
     ]
    }
   ],
   "source": [
    "import math\n",
    "\n",
    "def lat_lon_to_pixel(latitude, longitude, zoom, img_width, img_height, center_lat, center_lon):\n",
    "    # Constants\n",
    "    origin_shift = 2 * math.pi * 6378137 / 2.0\n",
    "    initial_resolution = 2 * math.pi * 6378137 / 256.0\n",
    "    \n",
    "    # Convert latitude/longitude to Mercator coordinates\n",
    "    def lat_lon_to_meters(lat, lon):\n",
    "        mx = lon * origin_shift / 180.0\n",
    "        my = math.log(math.tan((90 + lat) * math.pi / 360.0)) / (math.pi / 180.0)\n",
    "        my = my * origin_shift / 180.0\n",
    "        return mx, my\n",
    "\n",
    "    # Get the map center in Mercator coordinates\n",
    "    center_mx, center_my = lat_lon_to_meters(center_lat, center_lon)\n",
    "    \n",
    "    # Convert the given latitude/longitude to Mercator coordinates\n",
    "    mx, my = lat_lon_to_meters(latitude, longitude)\n",
    "    \n",
    "    # Calculate the resolution (meters per pixel) for the given zoom level\n",
    "    resolution = initial_resolution / (2 ** zoom)\n",
    "    \n",
    "    # Calculate pixel offsets from the center\n",
    "    pixel_x_offset = (mx - center_mx) / resolution\n",
    "    pixel_y_offset = (center_my - my) / resolution\n",
    "    \n",
    "    # Calculate pixel coordinates relative to the top-left corner of the image\n",
    "    pixel_x = img_width / 2 + pixel_x_offset\n",
    "    pixel_y = img_height / 2 + pixel_y_offset\n",
    "    \n",
    "    # Round to nearest pixel\n",
    "    pixel_x = int(round(pixel_x))\n",
    "    pixel_y = int(round(pixel_y))\n",
    "    \n",
    "    return pixel_x, pixel_y\n",
    "\n",
    "# Example usage:\n",
    "latitude = 28.6330  # Replace with the latitude\n",
    "longitude = 77.2195 # Replace with the longitude\n",
    "zoom_level = 8.47\n",
    "img_width = 719\n",
    "img_height = 719\n",
    "center_lat = 28.58967  # Center latitude\n",
    "center_lon = 77.22196  # Center longitude\n",
    "\n",
    "pixel_x, pixel_y = lat_lon_to_pixel(latitude, longitude, zoom_level, img_width, img_height, center_lat, center_lon)\n",
    "print(f\"Pixel coordinates: ({pixel_x}, {pixel_y})\")"
   ]
  },
  {
   "cell_type": "code",
   "execution_count": null,
   "metadata": {},
   "outputs": [],
   "source": [
    "# 28.5433498, 77.187352"
   ]
  }
 ],
 "metadata": {
  "kernelspec": {
   "display_name": "env",
   "language": "python",
   "name": "python3"
  },
  "language_info": {
   "codemirror_mode": {
    "name": "ipython",
    "version": 3
   },
   "file_extension": ".py",
   "mimetype": "text/x-python",
   "name": "python",
   "nbconvert_exporter": "python",
   "pygments_lexer": "ipython3",
   "version": "3.11.5"
  }
 },
 "nbformat": 4,
 "nbformat_minor": 2
}
